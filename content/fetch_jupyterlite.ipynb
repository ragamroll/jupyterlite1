{
  "metadata": {
    "language_info": {
      "codemirror_mode": {
        "name": "python",
        "version": 3
      },
      "file_extension": ".py",
      "mimetype": "text/x-python",
      "name": "python",
      "nbconvert_exporter": "python",
      "pygments_lexer": "ipython3",
      "version": "3.8"
    },
    "kernelspec": {
      "name": "python",
      "display_name": "Pyolite",
      "language": "python"
    }
  },
  "nbformat_minor": 4,
  "nbformat": 4,
  "cells": [
    {
      "cell_type": "code",
      "source": "import piplite",
      "metadata": {
        "trusted": true
      },
      "execution_count": 4,
      "outputs": []
    },
    {
      "cell_type": "code",
      "source": "await piplite.install(\"requests\")\nawait piplite.install(\"itables\")\nawait piplite.install(\"openssl\")",
      "metadata": {
        "tags": [],
        "trusted": true
      },
      "execution_count": 9,
      "outputs": []
    },
    {
      "cell_type": "code",
      "source": "user=\"mani@weberon.net\"\nmautic_server=\"my.thrivebrokers.com\"\nmautic_api_base_url=f'https://{mautic_server}/api'\nimport getpass\npassword = getpass.getpass(f'password for {user} \"')",
      "metadata": {
        "trusted": true
      },
      "execution_count": 14,
      "outputs": [
        {
          "output_type": "stream",
          "name": "stdin",
          "text": "password for mani@weberon.net \" ···········\n"
        }
      ]
    },
    {
      "cell_type": "code",
      "source": "import json\nfrom pyodide import to_js\nfrom js import Object\nresp = await js.fetch('example.com/some_api', to_js({\n  \"method\": \"POST\",\n  \"body\": json.dumps({ \"some\" : \"json\" }),\n  \"credentials\": \"same-origin\",\n  \"headers\": { \"Content-Type\": \"application/json\" }\n}, dict_converter=Object.fromEntries)",
      "metadata": {
        "tags": []
      },
      "execution_count": null,
      "outputs": []
    },
    {
      "cell_type": "code",
      "source": "import requests\nimport json\nfrom js import fetch\nquery = 'reports/7?dateFrom=2022-05-01&dateTo=2022-06-30&limit=1000000' #thrivebrokers pagehits\nquery='reports'\nendpoint = f'{mautic_api_base_url}/{query}'\nprint(endpoint)\n#response = requests.get(endpoint , auth=(user, password))\nresponse = await fetch(endpoint)",
      "metadata": {
        "trusted": true
      },
      "execution_count": 29,
      "outputs": [
        {
          "name": "stdout",
          "text": "https://my.thrivebrokers.com/api/reports\n",
          "output_type": "stream"
        },
        {
          "ename": "<class 'JsException'>",
          "evalue": "TypeError: Failed to fetch",
          "traceback": [
            "\u001b[0;31m---------------------------------------------------------------------------\u001b[0m",
            "\u001b[0;31mJsException\u001b[0m                               Traceback (most recent call last)",
            "Input \u001b[0;32mIn [29]\u001b[0m, in \u001b[0;36m<cell line: 9>\u001b[0;34m()\u001b[0m\n\u001b[1;32m      7\u001b[0m \u001b[38;5;28mprint\u001b[39m(endpoint)\n\u001b[1;32m      8\u001b[0m \u001b[38;5;66;03m#response = requests.get(endpoint , auth=(user, password))\u001b[39;00m\n\u001b[0;32m----> 9\u001b[0m response \u001b[38;5;241m=\u001b[39m \u001b[38;5;28;01mawait\u001b[39;00m fetch(endpoint)\n",
            "File \u001b[0;32m/lib/python3.10/asyncio/futures.py:284\u001b[0m, in \u001b[0;36mFuture.__await__\u001b[0;34m(self)\u001b[0m\n\u001b[1;32m    282\u001b[0m \u001b[38;5;28;01mif\u001b[39;00m \u001b[38;5;129;01mnot\u001b[39;00m \u001b[38;5;28mself\u001b[39m\u001b[38;5;241m.\u001b[39mdone():\n\u001b[1;32m    283\u001b[0m     \u001b[38;5;28mself\u001b[39m\u001b[38;5;241m.\u001b[39m_asyncio_future_blocking \u001b[38;5;241m=\u001b[39m \u001b[38;5;28;01mTrue\u001b[39;00m\n\u001b[0;32m--> 284\u001b[0m     \u001b[38;5;28;01myield\u001b[39;00m \u001b[38;5;28mself\u001b[39m  \u001b[38;5;66;03m# This tells Task to wait for completion.\u001b[39;00m\n\u001b[1;32m    285\u001b[0m \u001b[38;5;28;01mif\u001b[39;00m \u001b[38;5;129;01mnot\u001b[39;00m \u001b[38;5;28mself\u001b[39m\u001b[38;5;241m.\u001b[39mdone():\n\u001b[1;32m    286\u001b[0m     \u001b[38;5;28;01mraise\u001b[39;00m \u001b[38;5;167;01mRuntimeError\u001b[39;00m(\u001b[38;5;124m\"\u001b[39m\u001b[38;5;124mawait wasn\u001b[39m\u001b[38;5;124m'\u001b[39m\u001b[38;5;124mt used with future\u001b[39m\u001b[38;5;124m\"\u001b[39m)\n",
            "File \u001b[0;32m/lib/python3.10/asyncio/tasks.py:304\u001b[0m, in \u001b[0;36mTask.__wakeup\u001b[0;34m(self, future)\u001b[0m\n\u001b[1;32m    302\u001b[0m \u001b[38;5;28;01mdef\u001b[39;00m \u001b[38;5;21m__wakeup\u001b[39m(\u001b[38;5;28mself\u001b[39m, future):\n\u001b[1;32m    303\u001b[0m     \u001b[38;5;28;01mtry\u001b[39;00m:\n\u001b[0;32m--> 304\u001b[0m         \u001b[43mfuture\u001b[49m\u001b[38;5;241;43m.\u001b[39;49m\u001b[43mresult\u001b[49m\u001b[43m(\u001b[49m\u001b[43m)\u001b[49m\n\u001b[1;32m    305\u001b[0m     \u001b[38;5;28;01mexcept\u001b[39;00m \u001b[38;5;167;01mBaseException\u001b[39;00m \u001b[38;5;28;01mas\u001b[39;00m exc:\n\u001b[1;32m    306\u001b[0m         \u001b[38;5;66;03m# This may also be a cancellation.\u001b[39;00m\n\u001b[1;32m    307\u001b[0m         \u001b[38;5;28mself\u001b[39m\u001b[38;5;241m.\u001b[39m__step(exc)\n",
            "File \u001b[0;32m/lib/python3.10/asyncio/futures.py:201\u001b[0m, in \u001b[0;36mFuture.result\u001b[0;34m(self)\u001b[0m\n\u001b[1;32m    199\u001b[0m \u001b[38;5;28mself\u001b[39m\u001b[38;5;241m.\u001b[39m__log_traceback \u001b[38;5;241m=\u001b[39m \u001b[38;5;28;01mFalse\u001b[39;00m\n\u001b[1;32m    200\u001b[0m \u001b[38;5;28;01mif\u001b[39;00m \u001b[38;5;28mself\u001b[39m\u001b[38;5;241m.\u001b[39m_exception \u001b[38;5;129;01mis\u001b[39;00m \u001b[38;5;129;01mnot\u001b[39;00m \u001b[38;5;28;01mNone\u001b[39;00m:\n\u001b[0;32m--> 201\u001b[0m     \u001b[38;5;28;01mraise\u001b[39;00m \u001b[38;5;28mself\u001b[39m\u001b[38;5;241m.\u001b[39m_exception\n\u001b[1;32m    202\u001b[0m \u001b[38;5;28;01mreturn\u001b[39;00m \u001b[38;5;28mself\u001b[39m\u001b[38;5;241m.\u001b[39m_result\n",
            "\u001b[0;31mJsException\u001b[0m: TypeError: Failed to fetch"
          ],
          "output_type": "error"
        }
      ]
    },
    {
      "cell_type": "markdown",
      "source": "# Frequently Asked Questions\n\n(load-external-files-in-pyodide)=\n\n## How can I load external files in Pyodide?\n\nIn order to use external files in Pyodide, you should download and save them\nto the virtual file system.\n\nFor that purpose, Pyodide provides {any}`pyodide.http.pyfetch`,\nwhich is a convenient wrapper of JavaScript `fetch`:\n\n```pyodide\nawait pyodide.runPythonAsync(`\n  from pyodide.http import pyfetch\n  response = await pyfetch(\"https://some_url/...\")\n  if response.status == 200:\n      with open(\"<output_file>\", \"wb\") as f:\n          f.write(await response.bytes())\n`)\n```\n\n```{admonition} Why can't I just use urllib or requests?\n:class: warning\n\nWe currently canâ€™t use such packages since sockets are not available in Pyodide.\nSee {ref}`http-client-limit` for more information.\n```\n\n## Why can't I load files from the local file system?\n\nFor security reasons JavaScript in the browser is not allowed to load local data files\n(for example, `file:///path/to/local/file.data`).\nYou will run into Network Errors, due to the [Same Origin Policy](https://en.wikipedia.org/wiki/Same-origin_policy).\nThere is a\n[File System API](https://wicg.github.io/file-system-access/) supported in Chrome\nbut not in Firefox or Safari.\n\nFor development purposes, you can serve your files with a\n[web server](https://developer.mozilla.org/en-US/docs/Learn/Common_questions/set_up_a_local_testing_server).\n\n## How can I change the behavior of {any}`runPython <pyodide.runPython>` and {any}`runPythonAsync <pyodide.runPythonAsync>`?\n\nYou can directly call Python functions from JavaScript. For most purposes it\nmakes sense to make your own Python function as an entrypoint and call that\ninstead of redefining `runPython`. The definitions of {any}`runPython <pyodide.runPython>` and {any}`runPythonAsync <pyodide.runPythonAsync>` are very\nsimple:\n\n```javascript\nfunction runPython(code) {\n  pyodide.pyodide_py.eval_code(code, pyodide.globals);\n}\n```\n\n```javascript\nasync function runPythonAsync(code) {\n  return await pyodide.pyodide_py.eval_code_async(code, pyodide.globals);\n}\n```\n\nTo make your own version of {any}`runPython <pyodide.runPython>` you could do:\n\n```pyodide\npyodide.runPython(`\n  import pyodide\n  def my_eval_code(code, ns):\n    extra_info = None\n    result = pyodide.eval_code(code, ns)\n    return ns[\"extra_info\"], result]\n`)\n\nfunction myRunPython(code){\n  return pyodide.globals.get(\"my_eval_code\")(code, pyodide.globals);\n}\n```\n\nThen `pyodide.myRunPython(\"2+7\")` returns `[None, 9]` and\n`pyodide.myRunPython(\"extra_info='hello' ; 2 + 2\")` returns `['hello', 4]`.\nIf you want to change which packages {any}`pyodide.loadPackagesFromImports` loads, you can\nmonkey patch {any}`pyodide.find_imports` which takes `code` as an argument\nand returns a list of packages imported.\n\n## How can I execute code in a custom namespace?\n\nThe second argument to {any}`pyodide.runPython` is an options object which may\ninclude a `globals` element which is a namespace for code to read from and write\nto. The provided namespace must be a Python dictionary.\n\n```pyodide\nlet my_namespace = pyodide.globals.get(\"dict\")();\npyodide.runPython(`x = 1 + 1`, { globals: my_namespace });\npyodide.runPython(`y = x ** x`, { globals: my_namespace });\nmy_namespace.get(\"y\"); // ==> 4\n```\n\nYou can also use this approach to inject variables from JavaScript into the\nPython namespace, for example:\n\n```pyodide\nlet my_namespace = pyodide.toPy({ x: 2, y: [1, 2, 3] });\npyodide.runPython(\n  `\n  assert x == y[1]\n  z = x ** x\n  `,\n  { globals: my_namespace }\n);\nmy_namespace.get(\"z\"); // ==> 4\n```\n\n## How to detect that code is run with Pyodide?\n\n**At run time**, you can check if Python is built with Emscripten (which is the\ncase for Pyodide) with,\n\n```py\nimport sys\n\nif sys.platform == 'emscripten':\n    # running in Pyodide or other Emscripten based build\n```\n\nTo detect that a code is running with Pyodide specifically, you can check\nfor the loaded `pyodide` module,\n\n```py\nimport sys\n\nif \"pyodide\" in sys.modules:\n   # running in Pyodide\n```\n\nThis however will not work at build time (i.e. in a `setup.py`) due to the way\nthe Pyodide build system works. It first compiles packages with the host compiler\n(e.g. gcc) and then re-runs the compilation commands with emsdk. So the `setup.py` is\nnever run inside the Pyodide environment.\n\nTo detect Pyodide, **at build time** use,\n\n```python\nimport os\n\nif \"PYODIDE\" in os.environ:\n    # building for Pyodide\n```\n\nWe used to use the environment variable `PYODIDE_BASE_URL` for this purpose,\nbut this usage is deprecated.\n\n## How do I create custom Python packages from JavaScript?\n\nPut a collection of functions into a JavaScript object and use {any}`pyodide.registerJsModule`:\nJavaScript:\n\n```javascript\nlet my_module = {\n  f: function (x) {\n    return x * x + 1;\n  },\n  g: function (x) {\n    console.log(`Calling g on argument ${x}`);\n    return x;\n  },\n  submodule: {\n    h: function (x) {\n      return x * x - 1;\n    },\n    c: 2,\n  },\n};\npyodide.registerJsModule(\"my_js_module\", my_module);\n```\n\nYou can import your package like a normal Python package:\n\n```py\nimport my_js_module\nfrom my_js_module.submodule import h, c\nassert my_js_module.f(7) == 50\nassert h(9) == 80\nassert c == 2\n```\n\n## How can I send a Python object from my server to Pyodide?\n\nThe best way to do this is with pickle. If the version of Python used in the\nserver exactly matches the version of Python used in the client, then objects\nthat can be successfully pickled can be sent to the client and unpickled in\nPyodide. If the versions of Python are different then for instance sending AST\nis unlikely to work since there are breaking changes to Python AST in most\nPython minor versions.\n\nSimilarly when pickling Python objects defined in a Python package, the package\nversion needs to match exactly between the server and pyodide.\n\nGenerally, pickles are portable between architectures (here amd64 and wasm32).\nThe rare cases when they are not portable, for instance currently tree based\nmodels in scikit-learn, can be considered as a bug in the upstream library.\n\n```{admonition} Security Issues with pickle\n:class: warning\n\nUnpickling data is similar to `eval`. On any public-facing server it is a really\nbad idea to unpickle any data sent from the client. For sending data from client\nto server, try some other serialization format like JSON.\n```\n\n## How can I use a Python function as an event handler?\n\nNote that the most straight forward way of doing this will not work:\n\n```py\nfrom js import document\ndef f(*args):\n    document.querySelector(\"h1\").innerHTML += \"(>.<)\"\n\ndocument.body.addEventListener('click', f)\n```\n\nNow every time you click, an error will be raised (see {ref}`call-js-from-py`).\n\nTo do this correctly use {func}`pyodide.create_proxy` as follows:\n\n```py\nfrom js import document\nfrom pyodide import create_proxy\ndef f(*args):\n    document.querySelector(\"h1\").innerHTML += \"(>.<)\"\n\nproxy_f = create_proxy(f)\ndocument.body.addEventListener('click', proxy_f)\n# Store proxy_f in Python then later:\ndocument.body.removeEventListener('click', proxy_f)\nproxy_f.destroy()\n```\n\n## How can I use fetch with optional arguments from Python?\n\nThe most obvious translation of the JavaScript code won't work:\n\n```py\nimport json\nresp = await js.fetch('/someurl', {\n  \"method\": \"POST\",\n  \"body\": json.dumps({ \"some\" : \"json\" }),\n  \"credentials\": \"same-origin\",\n  \"headers\": { \"Content-Type\": \"application/json\" }\n})\n```\n\nThe `fetch` API ignores the options that we attempted to provide. You can do\nthis correctly in one of two ways:\n\n```py\nimport json\nfrom pyodide import to_js\nfrom js import Object\nresp = await js.fetch('example.com/some_api',\n  method= \"POST\",\n  body= json.dumps({ \"some\" : \"json\" }),\n  credentials= \"same-origin\",\n  headers= Object.fromEntries(to_js({ \"Content-Type\": \"application/json\" })),\n)\n```\n\nor:\n\n```py\nimport json\nfrom pyodide import to_js\nfrom js import Object\nresp = await js.fetch('example.com/some_api', to_js({\n  \"method\": \"POST\",\n  \"body\": json.dumps({ \"some\" : \"json\" }),\n  \"credentials\": \"same-origin\",\n  \"headers\": { \"Content-Type\": \"application/json\" }\n}, dict_converter=Object.fromEntries)\n```\n\n## How can I control the behavior of stdin / stdout / stderr?\n\nIf you wish to override `stdin`, `stdout` or `stderr` for the entire Pyodide\nruntime, you can pass options to {any}`loadPyodide <globalThis.loadPyodide>`: If\nyou say\n\n```\nloadPyodide({\n  stdin: stdin_func, stdout: stdout_func, stderr: stderr_func\n});\n```\n\nthen every time a line is written to `stdout` (resp. `stderr`), `stdout_func`\n(resp `stderr_func`) will be called on the line. Every time `stdin` is read,\n`stdin_func` will be called with zero arguments. It is expected to return a\nstring which is interpreted as a line of text.\n\nTemporary redirection works much the same as it does in native Python: you can\noverwrite `sys.stdin`, `sys.stdout`, and `sys.stderr` respectively. If you want\nto do it temporarily, it's recommended to use\n[`contextlib.redirect_stdout`](https://docs.python.org/3/library/contextlib.html#contextlib.redirect_stdout)\nand\n[`contextlib.redirect_stderr`](https://docs.python.org/3/library/contextlib.html#contextlib.redirect_stderr).\nThere is no `contextlib.redirect_stdin` but it is easy to make your own as\nfollows:\n\n```py\nfrom contextlib import _RedirectStream\nclass redirect_stdin(_RedirectStream):\n    _stream = \"stdin\"\n```\n\nFor example, if you do:\n\n```\nfrom io import StringIO\nwith redirect_stdin(StringIO(\"\\n\".join([\"eval\", \"asyncio.ensure_future\", \"functools.reduce\", \"quit\"]))):\n  help()\n```\n\nit will print:\n\n```\nWelcome to Python 3.10's help utility!\n<...OMITTED LINES>\nHelp on built-in function eval in module builtins:\neval(source, globals=None, locals=None, /)\n    Evaluate the given source in the context of globals and locals.\n<...OMITTED LINES>\nHelp on function ensure_future in asyncio:\nasyncio.ensure_future = ensure_future(coro_or_future, *, loop=None)\n    Wrap a coroutine or an awaitable in a future.\n<...OMITTED LINES>\nHelp on built-in function reduce in functools:\nfunctools.reduce = reduce(...)\n    reduce(function, sequence[, initial]) -> value\n    Apply a function of two arguments cumulatively to the items of a sequence,\n<...OMITTED LINES>\nYou are now leaving help and returning to the Python interpreter.\n```\n\n## Micropip can't find a pure Python wheel\n\nWhen installing a Python package from PyPI, micropip will produce an error if\nit cannot find a pure Python wheel. To determine if a package has a pure\nPython wheel manually, you can open its PyPi page (for instance\nhttps://pypi.org/project/snowballstemmer/) and go to the \"Download files\" tab.\nIf this tab doesn't contain a file `*py3-none-any.whl` then the pure Python\nwheel is missing.\n\nThis can happen for two reasons,\n\n1. either the package is pure Python (you can check language composition for a\n   package on Github), and its maintainers didn't upload a wheel.\n   In this case, you can report this issue to the package issue tracker. As a\n   temporary solution, you can also [build the\n   wheel](https://packaging.python.org/en/latest/tutorials/packaging-projects/#generating-distribution-archives)\n   yourself, upload it to some temporary location and install it with micropip\n   from the corresponding URL.\n2. or the package has binary extensions (e.g. C, Fortran or Rust), in which\n   case it needs to be packaged in Pyodide. Please open [an\n   issue](https://github.com/pyodide/pyodide/issues) after checking than an\n   issue for this opackage doesn't exist already. Then follow\n   {ref}`new-packages`.",
      "metadata": {}
    }
  ]
}